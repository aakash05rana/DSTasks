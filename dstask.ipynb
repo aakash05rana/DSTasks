{
 "cells": [
  {
   "cell_type": "code",
   "execution_count": 438,
   "metadata": {},
   "outputs": [
    {
     "output_type": "stream",
     "name": "stdout",
     "text": [
      "Time taken to read the data: 132.98740983009338\n"
     ]
    },
    {
     "output_type": "execute_result",
     "data": {
      "text/plain": [
       "                                          properties                 timestamp        user\n",
       "0  {'brand_partner_name': 'NewHomeSource', 'build...  2021-03-27T02:24:23.574Z  nanettealb\n",
       "1  {'brand_partner_name': 'NewHomeSource', 'build...  2021-03-27T02:24:23.574Z  nanettealb\n",
       "2  {'brand_partner_name': 'NewHomeSource', 'build...   2021-03-27T01:52:17.95Z  nanettealb\n",
       "3  {'brand_partner_name': 'NewHomeSource', 'build...  2021-03-27T01:52:14.175Z  nanettealb\n",
       "4  {'brand_partner_name': 'NewHomeSource', 'build...  2021-03-27T01:52:01.594Z  nanettealb"
      ],
      "text/html": "<div>\n<style scoped>\n    .dataframe tbody tr th:only-of-type {\n        vertical-align: middle;\n    }\n\n    .dataframe tbody tr th {\n        vertical-align: top;\n    }\n\n    .dataframe thead th {\n        text-align: right;\n    }\n</style>\n<table border=\"1\" class=\"dataframe\">\n  <thead>\n    <tr style=\"text-align: right;\">\n      <th></th>\n      <th>properties</th>\n      <th>timestamp</th>\n      <th>user</th>\n    </tr>\n  </thead>\n  <tbody>\n    <tr>\n      <th>0</th>\n      <td>{'brand_partner_name': 'NewHomeSource', 'build...</td>\n      <td>2021-03-27T02:24:23.574Z</td>\n      <td>nanettealb</td>\n    </tr>\n    <tr>\n      <th>1</th>\n      <td>{'brand_partner_name': 'NewHomeSource', 'build...</td>\n      <td>2021-03-27T02:24:23.574Z</td>\n      <td>nanettealb</td>\n    </tr>\n    <tr>\n      <th>2</th>\n      <td>{'brand_partner_name': 'NewHomeSource', 'build...</td>\n      <td>2021-03-27T01:52:17.95Z</td>\n      <td>nanettealb</td>\n    </tr>\n    <tr>\n      <th>3</th>\n      <td>{'brand_partner_name': 'NewHomeSource', 'build...</td>\n      <td>2021-03-27T01:52:14.175Z</td>\n      <td>nanettealb</td>\n    </tr>\n    <tr>\n      <th>4</th>\n      <td>{'brand_partner_name': 'NewHomeSource', 'build...</td>\n      <td>2021-03-27T01:52:01.594Z</td>\n      <td>nanettealb</td>\n    </tr>\n  </tbody>\n</table>\n</div>"
     },
     "metadata": {},
     "execution_count": 438
    }
   ],
   "source": [
    "import pandas as pd\n",
    "import time \n",
    "fields = ['user', 'properties', 'timestamp']\n",
    "startTime = time.time()\n",
    "excel_df = pd.read_excel('Pandas_exercise_Marpart1.xlsx', usecols=fields)\n",
    "endTime = time.time()\n",
    "print('Time taken to read the data:', endTime - startTime)\n",
    "excel_df.head()"
   ]
  },
  {
   "cell_type": "code",
   "execution_count": 457,
   "metadata": {},
   "outputs": [
    {
     "output_type": "execute_result",
     "data": {
      "text/plain": [
       "(455556, 3)"
      ]
     },
     "metadata": {},
     "execution_count": 457
    }
   ],
   "source": [
    "excel_df.shape"
   ]
  },
  {
   "cell_type": "code",
   "execution_count": 440,
   "metadata": {},
   "outputs": [
    {
     "output_type": "stream",
     "name": "stdout",
     "text": [
      "Time taken to filter rows: 1.761458396911621\n"
     ]
    },
    {
     "output_type": "execute_result",
     "data": {
      "text/plain": [
       "                                           properties                 timestamp        user\n",
       "42  {'area_clicked': 'Image Url', 'brand_partner_n...  2021-03-27T01:28:16.431Z  nanettealb\n",
       "43  {'brand_partner_name': 'NewHomeSource', 'build...  2021-03-27T01:28:11.762Z  nanettealb\n",
       "44  {'brand_partner_name': 'NewHomeSource', 'build...  2021-03-27T01:28:10.613Z  nanettealb\n",
       "45  {'brand_partner_name': 'NewHomeSource', 'build...  2021-03-27T01:28:08.916Z  nanettealb\n",
       "46  {'brand_partner_name': 'NewHomeSource', 'city'...  2021-03-27T01:27:57.649Z  nanettealb\n",
       "47  {'brand_partner_name': 'NewHomeSource', 'build...  2021-03-27T01:27:55.919Z  nanettealb\n",
       "48  {'Listings': [{'builder_id': '2805', 'builder_...   2021-03-27T01:27:55.91Z  nanettealb\n",
       "71  {'area_clicked': 'Image Url', 'brand_partner_n...  2021-03-27T01:26:10.184Z  nanettealb\n",
       "72  {'brand_partner_name': 'NewHomeSource', 'build...  2021-03-27T01:26:08.604Z  nanettealb\n",
       "73  {'brand_partner_name': 'NewHomeSource', 'city'...  2021-03-27T01:26:03.254Z  nanettealb"
      ],
      "text/html": "<div>\n<style scoped>\n    .dataframe tbody tr th:only-of-type {\n        vertical-align: middle;\n    }\n\n    .dataframe tbody tr th {\n        vertical-align: top;\n    }\n\n    .dataframe thead th {\n        text-align: right;\n    }\n</style>\n<table border=\"1\" class=\"dataframe\">\n  <thead>\n    <tr style=\"text-align: right;\">\n      <th></th>\n      <th>properties</th>\n      <th>timestamp</th>\n      <th>user</th>\n    </tr>\n  </thead>\n  <tbody>\n    <tr>\n      <th>42</th>\n      <td>{'area_clicked': 'Image Url', 'brand_partner_n...</td>\n      <td>2021-03-27T01:28:16.431Z</td>\n      <td>nanettealb</td>\n    </tr>\n    <tr>\n      <th>43</th>\n      <td>{'brand_partner_name': 'NewHomeSource', 'build...</td>\n      <td>2021-03-27T01:28:11.762Z</td>\n      <td>nanettealb</td>\n    </tr>\n    <tr>\n      <th>44</th>\n      <td>{'brand_partner_name': 'NewHomeSource', 'build...</td>\n      <td>2021-03-27T01:28:10.613Z</td>\n      <td>nanettealb</td>\n    </tr>\n    <tr>\n      <th>45</th>\n      <td>{'brand_partner_name': 'NewHomeSource', 'build...</td>\n      <td>2021-03-27T01:28:08.916Z</td>\n      <td>nanettealb</td>\n    </tr>\n    <tr>\n      <th>46</th>\n      <td>{'brand_partner_name': 'NewHomeSource', 'city'...</td>\n      <td>2021-03-27T01:27:57.649Z</td>\n      <td>nanettealb</td>\n    </tr>\n    <tr>\n      <th>47</th>\n      <td>{'brand_partner_name': 'NewHomeSource', 'build...</td>\n      <td>2021-03-27T01:27:55.919Z</td>\n      <td>nanettealb</td>\n    </tr>\n    <tr>\n      <th>48</th>\n      <td>{'Listings': [{'builder_id': '2805', 'builder_...</td>\n      <td>2021-03-27T01:27:55.91Z</td>\n      <td>nanettealb</td>\n    </tr>\n    <tr>\n      <th>71</th>\n      <td>{'area_clicked': 'Image Url', 'brand_partner_n...</td>\n      <td>2021-03-27T01:26:10.184Z</td>\n      <td>nanettealb</td>\n    </tr>\n    <tr>\n      <th>72</th>\n      <td>{'brand_partner_name': 'NewHomeSource', 'build...</td>\n      <td>2021-03-27T01:26:08.604Z</td>\n      <td>nanettealb</td>\n    </tr>\n    <tr>\n      <th>73</th>\n      <td>{'brand_partner_name': 'NewHomeSource', 'city'...</td>\n      <td>2021-03-27T01:26:03.254Z</td>\n      <td>nanettealb</td>\n    </tr>\n  </tbody>\n</table>\n</div>"
     },
     "metadata": {},
     "execution_count": 440
    }
   ],
   "source": [
    "startTime = time.time()\n",
    "filt = excel_df['properties'].str.contains('filters_applied')\n",
    "excel_df = excel_df.loc[filt]\n",
    "endTime = time.time()\n",
    "print('Time taken to filter rows:', endTime - startTime)\n",
    "excel_df.head(10)"
   ]
  },
  {
   "cell_type": "code",
   "execution_count": 441,
   "metadata": {},
   "outputs": [
    {
     "output_type": "stream",
     "name": "stdout",
     "text": [
      "CPU times: user 2min 39s, sys: 2.1 s, total: 2min 41s\nWall time: 2min 42s\n"
     ]
    }
   ],
   "source": [
    "%%time\n",
    "excel_df['properties'] = excel_df['properties'].apply(eval)"
   ]
  },
  {
   "cell_type": "code",
   "execution_count": 458,
   "metadata": {},
   "outputs": [
    {
     "output_type": "stream",
     "name": "stdout",
     "text": [
      "CPU times: user 388 µs, sys: 0 ns, total: 388 µs\nWall time: 866 µs\n"
     ]
    }
   ],
   "source": [
    "%%time\n",
    "props = excel_df['properties']"
   ]
  },
  {
   "cell_type": "code",
   "execution_count": 459,
   "metadata": {},
   "outputs": [
    {
     "output_type": "stream",
     "name": "stdout",
     "text": [
      "CPU times: user 213 ms, sys: 12.1 ms, total: 225 ms\nWall time: 227 ms\n"
     ]
    },
    {
     "output_type": "execute_result",
     "data": {
      "text/plain": [
       "                                              properties            timestamp        user\n",
       "index                                                                                    \n",
       "0      {'area_clicked': 'Image Url', 'brand_partner_n...  2021-03-27T01:28:16  nanettealb\n",
       "1      {'brand_partner_name': 'NewHomeSource', 'build...  2021-03-27T01:28:11  nanettealb\n",
       "2      {'brand_partner_name': 'NewHomeSource', 'build...  2021-03-27T01:28:10  nanettealb\n",
       "3      {'brand_partner_name': 'NewHomeSource', 'build...  2021-03-27T01:28:08  nanettealb\n",
       "4      {'brand_partner_name': 'NewHomeSource', 'city'...  2021-03-27T01:27:57  nanettealb"
      ],
      "text/html": "<div>\n<style scoped>\n    .dataframe tbody tr th:only-of-type {\n        vertical-align: middle;\n    }\n\n    .dataframe tbody tr th {\n        vertical-align: top;\n    }\n\n    .dataframe thead th {\n        text-align: right;\n    }\n</style>\n<table border=\"1\" class=\"dataframe\">\n  <thead>\n    <tr style=\"text-align: right;\">\n      <th></th>\n      <th>properties</th>\n      <th>timestamp</th>\n      <th>user</th>\n    </tr>\n    <tr>\n      <th>index</th>\n      <th></th>\n      <th></th>\n      <th></th>\n    </tr>\n  </thead>\n  <tbody>\n    <tr>\n      <th>0</th>\n      <td>{'area_clicked': 'Image Url', 'brand_partner_n...</td>\n      <td>2021-03-27T01:28:16</td>\n      <td>nanettealb</td>\n    </tr>\n    <tr>\n      <th>1</th>\n      <td>{'brand_partner_name': 'NewHomeSource', 'build...</td>\n      <td>2021-03-27T01:28:11</td>\n      <td>nanettealb</td>\n    </tr>\n    <tr>\n      <th>2</th>\n      <td>{'brand_partner_name': 'NewHomeSource', 'build...</td>\n      <td>2021-03-27T01:28:10</td>\n      <td>nanettealb</td>\n    </tr>\n    <tr>\n      <th>3</th>\n      <td>{'brand_partner_name': 'NewHomeSource', 'build...</td>\n      <td>2021-03-27T01:28:08</td>\n      <td>nanettealb</td>\n    </tr>\n    <tr>\n      <th>4</th>\n      <td>{'brand_partner_name': 'NewHomeSource', 'city'...</td>\n      <td>2021-03-27T01:27:57</td>\n      <td>nanettealb</td>\n    </tr>\n  </tbody>\n</table>\n</div>"
     },
     "metadata": {},
     "execution_count": 459
    }
   ],
   "source": [
    "%%time\n",
    "# creating index column\n",
    "temp = [i for i in range(len(excel_df))]\n",
    "excel_df['index'] = temp\n",
    "excel_df.set_index('index', inplace=True)\n",
    "excel_df.head()"
   ]
  },
  {
   "cell_type": "code",
   "execution_count": 444,
   "metadata": {},
   "outputs": [
    {
     "output_type": "execute_result",
     "data": {
      "text/plain": [
       "Int64Index([     0,      1,      2,      3,      4,      5,      6,      7,      8,      9,\n",
       "            ...\n",
       "            455546, 455547, 455548, 455549, 455550, 455551, 455552, 455553, 455554, 455555], dtype='int64', name='index', length=455556)"
      ]
     },
     "metadata": {},
     "execution_count": 444
    }
   ],
   "source": [
    "excel_df.index"
   ]
  },
  {
   "cell_type": "code",
   "execution_count": 460,
   "metadata": {},
   "outputs": [
    {
     "output_type": "stream",
     "name": "stdout",
     "text": [
      "455556\n"
     ]
    }
   ],
   "source": [
    "excel_df.iloc[1000]['user']\n",
    "print(len(props))\n",
    "\n",
    "column_names = ['user', 'park', 'isgated', 'pool', 'golfcourse', 'greenarea']"
   ]
  },
  {
   "cell_type": "code",
   "execution_count": 497,
   "metadata": {
    "tags": []
   },
   "outputs": [
    {
     "output_type": "stream",
     "name": "stdout",
     "text": [
      "6320\nCPU times: user 1min 38s, sys: 110 ms, total: 1min 38s\nWall time: 1min 38s\n"
     ]
    }
   ],
   "source": [
    "%%time\n",
    "temp = 0\n",
    "correctIndex = 0\n",
    "# amenities considered [ park, pool, gated, golfcourse]\n",
    "newDF = pd.DataFrame(columns=column_names)\n",
    "for index, data in props.iteritems():\n",
    "    currDict = data['filters_applied']\n",
    "    try:\n",
    "        tempDF = {'user':excel_df.iloc[index]['user'], 'park':0, 'isgated': 0, 'pool': 0, 'golfcourse':0, 'greenarea': 0 }\n",
    "        if(currDict.get('Pool') or currDict.get('pool')):\n",
    "            tempDF['pool'] = 1\n",
    "        if(currDict.get('gated') or currDict.get('Gated')):\n",
    "            tempDF['isgated'] = 1\n",
    "            # print(tempDF)\n",
    "        if(currDict.get('parks') or currDict.get('Parks')):\n",
    "            tempDF['park'] = 1\n",
    "        if(currDict.get('GolfCourse') or currDict.get('golfcourse')):\n",
    "            tempDF['golfcourse'] = 1\n",
    "        if(currDict.get('GreenArea') or currDict.get('greenarea')):\n",
    "            tempDF['greenarea'] = 1\n",
    "        if tempDF['park'] > 0 or tempDF['pool'] > 0 or tempDF['isgated'] > 0 or tempDF['golfcourse'] > 0 or tempDF['greenarea'] > 0:\n",
    "            newDF = newDF.append(tempDF, ignore_index=True)\n",
    "            # print(tempDF)\n",
    "            correctIndex = index\n",
    "            temp += 1\n",
    "    except:\n",
    "        pass\n",
    "\n",
    "print(temp)"
   ]
  },
  {
   "cell_type": "code",
   "execution_count": 462,
   "metadata": {},
   "outputs": [
    {
     "output_type": "stream",
     "name": "stdout",
     "text": [
      "6320\n"
     ]
    },
    {
     "output_type": "execute_result",
     "data": {
      "text/plain": [
       "            user park isgated pool golfcourse greenarea\n",
       "0     jillanovai    0       1    0          0         0\n",
       "1     jillanovai    0       1    0          0         0\n",
       "2     jillanovai    0       1    0          0         0\n",
       "3     jillanovai    0       1    0          0         0\n",
       "4     jillanovai    0       1    0          0         0\n",
       "...          ...  ...     ...  ...        ...       ...\n",
       "6315  brett.rear    0       1    0          0         0\n",
       "6316  brett.rear    0       1    0          0         0\n",
       "6317  brett.rear    0       1    0          0         0\n",
       "6318  brett.rear    0       1    0          0         0\n",
       "6319  kristi_osb    0       0    1          0         0\n",
       "\n",
       "[6320 rows x 6 columns]"
      ],
      "text/html": "<div>\n<style scoped>\n    .dataframe tbody tr th:only-of-type {\n        vertical-align: middle;\n    }\n\n    .dataframe tbody tr th {\n        vertical-align: top;\n    }\n\n    .dataframe thead th {\n        text-align: right;\n    }\n</style>\n<table border=\"1\" class=\"dataframe\">\n  <thead>\n    <tr style=\"text-align: right;\">\n      <th></th>\n      <th>user</th>\n      <th>park</th>\n      <th>isgated</th>\n      <th>pool</th>\n      <th>golfcourse</th>\n      <th>greenarea</th>\n    </tr>\n  </thead>\n  <tbody>\n    <tr>\n      <th>0</th>\n      <td>jillanovai</td>\n      <td>0</td>\n      <td>1</td>\n      <td>0</td>\n      <td>0</td>\n      <td>0</td>\n    </tr>\n    <tr>\n      <th>1</th>\n      <td>jillanovai</td>\n      <td>0</td>\n      <td>1</td>\n      <td>0</td>\n      <td>0</td>\n      <td>0</td>\n    </tr>\n    <tr>\n      <th>2</th>\n      <td>jillanovai</td>\n      <td>0</td>\n      <td>1</td>\n      <td>0</td>\n      <td>0</td>\n      <td>0</td>\n    </tr>\n    <tr>\n      <th>3</th>\n      <td>jillanovai</td>\n      <td>0</td>\n      <td>1</td>\n      <td>0</td>\n      <td>0</td>\n      <td>0</td>\n    </tr>\n    <tr>\n      <th>4</th>\n      <td>jillanovai</td>\n      <td>0</td>\n      <td>1</td>\n      <td>0</td>\n      <td>0</td>\n      <td>0</td>\n    </tr>\n    <tr>\n      <th>...</th>\n      <td>...</td>\n      <td>...</td>\n      <td>...</td>\n      <td>...</td>\n      <td>...</td>\n      <td>...</td>\n    </tr>\n    <tr>\n      <th>6315</th>\n      <td>brett.rear</td>\n      <td>0</td>\n      <td>1</td>\n      <td>0</td>\n      <td>0</td>\n      <td>0</td>\n    </tr>\n    <tr>\n      <th>6316</th>\n      <td>brett.rear</td>\n      <td>0</td>\n      <td>1</td>\n      <td>0</td>\n      <td>0</td>\n      <td>0</td>\n    </tr>\n    <tr>\n      <th>6317</th>\n      <td>brett.rear</td>\n      <td>0</td>\n      <td>1</td>\n      <td>0</td>\n      <td>0</td>\n      <td>0</td>\n    </tr>\n    <tr>\n      <th>6318</th>\n      <td>brett.rear</td>\n      <td>0</td>\n      <td>1</td>\n      <td>0</td>\n      <td>0</td>\n      <td>0</td>\n    </tr>\n    <tr>\n      <th>6319</th>\n      <td>kristi_osb</td>\n      <td>0</td>\n      <td>0</td>\n      <td>1</td>\n      <td>0</td>\n      <td>0</td>\n    </tr>\n  </tbody>\n</table>\n<p>6320 rows × 6 columns</p>\n</div>"
     },
     "metadata": {},
     "execution_count": 462
    }
   ],
   "source": [
    "print(len(newDF))\n",
    "newDF"
   ]
  },
  {
   "cell_type": "code",
   "execution_count": 463,
   "metadata": {},
   "outputs": [],
   "source": [
    "newDF = newDF.groupby('user').sum().sort_values(by=['park', 'isgated', 'pool', 'golfcourse', 'greenarea'], ascending=[False, False, False, False, False])"
   ]
  },
  {
   "cell_type": "code",
   "execution_count": 508,
   "metadata": {},
   "outputs": [
    {
     "output_type": "execute_result",
     "data": {
      "text/plain": [
       "         user park isgated pool golfcourse greenarea\n",
       "0  jillanovai    0       1    0          0         0\n",
       "1  jillanovai    0       1    0          0         0\n",
       "2  jillanovai    0       1    0          0         0\n",
       "3  jillanovai    0       1    0          0         0\n",
       "4  jillanovai    0       1    0          0         0"
      ],
      "text/html": "<div>\n<style scoped>\n    .dataframe tbody tr th:only-of-type {\n        vertical-align: middle;\n    }\n\n    .dataframe tbody tr th {\n        vertical-align: top;\n    }\n\n    .dataframe thead th {\n        text-align: right;\n    }\n</style>\n<table border=\"1\" class=\"dataframe\">\n  <thead>\n    <tr style=\"text-align: right;\">\n      <th></th>\n      <th>user</th>\n      <th>park</th>\n      <th>isgated</th>\n      <th>pool</th>\n      <th>golfcourse</th>\n      <th>greenarea</th>\n    </tr>\n  </thead>\n  <tbody>\n    <tr>\n      <th>0</th>\n      <td>jillanovai</td>\n      <td>0</td>\n      <td>1</td>\n      <td>0</td>\n      <td>0</td>\n      <td>0</td>\n    </tr>\n    <tr>\n      <th>1</th>\n      <td>jillanovai</td>\n      <td>0</td>\n      <td>1</td>\n      <td>0</td>\n      <td>0</td>\n      <td>0</td>\n    </tr>\n    <tr>\n      <th>2</th>\n      <td>jillanovai</td>\n      <td>0</td>\n      <td>1</td>\n      <td>0</td>\n      <td>0</td>\n      <td>0</td>\n    </tr>\n    <tr>\n      <th>3</th>\n      <td>jillanovai</td>\n      <td>0</td>\n      <td>1</td>\n      <td>0</td>\n      <td>0</td>\n      <td>0</td>\n    </tr>\n    <tr>\n      <th>4</th>\n      <td>jillanovai</td>\n      <td>0</td>\n      <td>1</td>\n      <td>0</td>\n      <td>0</td>\n      <td>0</td>\n    </tr>\n  </tbody>\n</table>\n</div>"
     },
     "metadata": {},
     "execution_count": 508
    }
   ],
   "source": [
    "newDF.head()"
   ]
  },
  {
   "cell_type": "code",
   "execution_count": 486,
   "metadata": {},
   "outputs": [
    {
     "output_type": "stream",
     "name": "stdout",
     "text": [
      "CPU times: user 2.14 ms, sys: 0 ns, total: 2.14 ms\nWall time: 4.77 ms\n"
     ]
    },
    {
     "output_type": "execute_result",
     "data": {
      "text/plain": [
       "park           2\n",
       "isgated       11\n",
       "pool           0\n",
       "golfcourse     0\n",
       "greenarea      0\n",
       "Name: erica, dtype: int64"
      ]
     },
     "metadata": {},
     "execution_count": 486
    }
   ],
   "source": [
    "%%time\n",
    "newDF.loc['erica']"
   ]
  },
  {
   "cell_type": "code",
   "execution_count": 467,
   "metadata": {},
   "outputs": [],
   "source": [
    "filtersApplied = excel_df['properties'].apply(lambda x : x['filters_applied'])"
   ]
  },
  {
   "cell_type": "code",
   "execution_count": 468,
   "metadata": {},
   "outputs": [
    {
     "output_type": "execute_result",
     "data": {
      "text/plain": [
       "index\n",
       "0    {'AggregateOptions': True, 'AlphaResults': Tru...\n",
       "1    {'AggregateOptions': True, 'AlphaResults': Tru...\n",
       "2    {'AggregateOptions': True, 'AlphaResults': Tru...\n",
       "3    {'AggregateOptions': True, 'AlphaResults': Tru...\n",
       "4    {'AggregateOptions': True, 'AlphaResults': Tru...\n",
       "Name: properties, dtype: object"
      ]
     },
     "metadata": {},
     "execution_count": 468
    }
   ],
   "source": [
    "filtersApplied.head()"
   ]
  },
  {
   "cell_type": "code",
   "execution_count": 453,
   "metadata": {},
   "outputs": [
    {
     "output_type": "execute_result",
     "data": {
      "text/plain": [
       "Int64Index([     42,      43,      44,      45,      46,      47,      48,      71,      72,      73,\n",
       "            ...\n",
       "            1033150, 1033151, 1033152, 1033153, 1033154, 1033155, 1033156, 1033157, 1033158, 1033159], dtype='int64', length=455556)"
      ]
     },
     "metadata": {},
     "execution_count": 453
    }
   ],
   "source": [
    "props.index"
   ]
  },
  {
   "cell_type": "code",
   "execution_count": 469,
   "metadata": {
    "tags": []
   },
   "outputs": [
    {
     "output_type": "stream",
     "name": "stdout",
     "text": [
      "455556\n",
      "Pool Mismatch:  440\n",
      "Park Mismatch: 0\n",
      "Gated Mismatch:  1292\n",
      "GolfCourse Mismatch:  322\n",
      "Total Mismatch: 2054 \n",
      "\n",
      "{204871, 204872, 204873, 204874, 204875, 204876, 204877, 204878, 82037, 82038, 82039, 82040, 82041, 82045, 82046, 204967, 204968, 204969, 204970, 204971, 204972, 204973, 204974, 204975, 204976, 204977, 204978, 204979, 204980, 204981, 204982, 204983, 204984, 204985, 204986, 204987, 204988, 204989, 204990, 204991, 204992, 204993, 204994, 204995, 204996, 204997, 82145, 82146, 82147, 82148, 82149, 82150, 82151, 82152, 82153, 82202, 82203, 82204, 158003, 158004, 188821, 188822, 188823, 188824, 188825, 188826, 188827, 188828, 188829, 82367, 82368, 82369, 82370, 82379, 82380, 82381, 82382, 382730, 98795, 98796, 98797, 98798, 382731, 98799, 98800, 98801, 98802, 382732, 98803, 382733, 382734, 41472, 41473, 41474, 41475, 382735, 41476, 41477, 41478, 41479, 382736, 41480, 41481, 41482, 41483, 382737, 41484, 41485, 41486, 41487, 382738, 41488, 41489, 41490, 382739, 382740, 382741, 98913, 98914, 98915, 98916, 98917, 98918, 98919, 98920, 98921, 98922, 205422, 205423, 205424, 205425, 205426, 205427, 205428, 205429, 205430, 205431, 205432, 205433, 115342, 115343, 115344, 115345, 115346, 115347, 115348, 115349, 115350, 115351, 115352, 115353, 434834, 434835, 434836, 434837, 434838, 434839, 434840, 434841, 434842, 434843, 434844, 287623, 287624, 287625, 287626, 287627, 287628, 287629, 382826, 382827, 382828, 382829, 382830, 66533, 66534, 382831, 382832, 382833, 382834, 443384, 443385, 382835, 382836, 382837, 42110, 42111, 58628, 58629, 443669, 443670, 361861, 361862, 361863, 361864, 361872, 361873, 361874, 361875, 361876, 361877, 361878, 361879, 361880, 198140, 198141, 419379, 419380, 419381, 419382, 419383, 419384, 419385, 419386, 419387, 419388, 419389, 419390, 419391, 419392, 419393, 419394, 419395, 419396, 419397, 419400, 419401, 419402, 419403, 419404, 419405, 419406, 419407, 419408, 419409, 419410, 419411, 83576, 83577, 83578, 83579, 83580, 83581, 83582, 83583, 83584, 83585, 83586, 83587, 83588, 83589, 83590, 83591, 83592, 83593, 83594, 83595, 83596, 83597, 83598, 83599, 83600, 83601, 83602, 83603, 83604, 83605, 83606, 83607, 83608, 83609, 83610, 83611, 83612, 83613, 83614, 378535, 378536, 378537, 378538, 378539, 378540, 378541, 378542, 378543, 378544, 378545, 378546, 239310, 272083, 272084, 272085, 272086, 124693, 124694, 124695, 124696, 124697, 124698, 124699, 124700, 124701, 124702, 124703, 124704, 124705, 124706, 124707, 124708, 124709, 124710, 124711, 411425, 411426, 411427, 411428, 411429, 411430, 411431, 411432, 411433, 411434, 411435, 411436, 411437, 411438, 411439, 411440, 411441, 411442, 411443, 411444, 411445, 411446, 411447, 411448, 411449, 411450, 452523, 452524, 452525, 452526, 452527, 452528, 452529, 452530, 452531, 452532, 452533, 452534, 452535, 452536, 452537, 452538, 452539, 452540, 452541, 452542, 452543, 452544, 452545, 452546, 452547, 452548, 452549, 452550, 452551, 452552, 452553, 452554, 452555, 452556, 452557, 452558, 452559, 42960, 42961, 42962, 42963, 42964, 42965, 452560, 452561, 452562, 452563, 452564, 452565, 452566, 452567, 452568, 11869, 444486, 444487, 190536, 190537, 190538, 190539, 190540, 190541, 190542, 190543, 190544, 190545, 190546, 190547, 190548, 190549, 190550, 11870, 26740, 26741, 26742, 26743, 26744, 26745, 26746, 26747, 26748, 26749, 26750, 26751, 26752, 26753, 26754, 26755, 26756, 26757, 26758, 26759, 26760, 26761, 26762, 26763, 26764, 26765, 26766, 26767, 26768, 26769, 26770, 26771, 26772, 26773, 26774, 26775, 26776, 26777, 26778, 26779, 26780, 288957, 288958, 288959, 280820, 280821, 280822, 280823, 280824, 280825, 280826, 280827, 280828, 280829, 280830, 280831, 280832, 280833, 280834, 280835, 280836, 127464, 11861, 127465, 11862, 127466, 11863, 11864, 133421, 133422, 133423, 133424, 133425, 133426, 133427, 133428, 133429, 133430, 133431, 133432, 133433, 133434, 133435, 133436, 133437, 158005, 158006, 158007, 280890, 280891, 280892, 280893, 280894, 280895, 280896, 280897, 280898, 280899, 280900, 280901, 280902, 280903, 280904, 280905, 280906, 280907, 280908, 280909, 280910, 280911, 280912, 280913, 280914, 280915, 280916, 280917, 280918, 280919, 280920, 280921, 280922, 280923, 280924, 280925, 280926, 280927, 280928, 280929, 280930, 280931, 280932, 280933, 280934, 280935, 280936, 280937, 280938, 280939, 280940, 280941, 280942, 280943, 280944, 280945, 280946, 280947, 280948, 280949, 280950, 280951, 280952, 280953, 280954, 280955, 280956, 280957, 280958, 280959, 280960, 280961, 280962, 280963, 280964, 280965, 280966, 280967, 280968, 280969, 280970, 280971, 280972, 280973, 280974, 280975, 280976, 280977, 280978, 280979, 280980, 280981, 280982, 280983, 280984, 280985, 280986, 280987, 280988, 280989, 199127, 199128, 199129, 199130, 199131, 199132, 199133, 199134, 199135, 199136, 199137, 199138, 199139, 199140, 199141, 305657, 191013, 191014, 191015, 191016, 191017, 191018, 191019, 305711, 305712, 305713, 305714, 305715, 305716, 305717, 305718, 305719, 305720, 60009, 60010, 60011, 60012, 60013, 60014, 60015, 60016, 60017, 60018, 60019, 142145, 142146, 142147, 420752, 420753, 420754, 420755, 420756, 420757, 420758, 19441, 19442, 19443, 19444, 19445, 19446, 19447, 19448, 19449, 363578, 363579, 363580, 363581, 363582, 363583, 363584, 363585, 363586, 363587, 363588, 363589, 363590, 363591, 363592, 363593, 363594, 363595, 363596, 363597, 363598, 363599, 363600, 363601, 363602, 363603, 363604, 363605, 363606, 363607, 363608, 363609, 363610, 363611, 363612, 363613, 363614, 191661, 191662, 191663, 191664, 191665, 191666, 191667, 191668, 191669, 191670, 191671, 191672, 421231, 421232, 421233, 421234, 421235, 421236, 421237, 421238, 421239, 421240, 257416, 257417, 257418, 257419, 257420, 257421, 257422, 257423, 257424, 257425, 257426, 257427, 257428, 257429, 257430, 257431, 257432, 257433, 257434, 257435, 257436, 257437, 257438, 232855, 232856, 232857, 232858, 232859, 232860, 232861, 232862, 232863, 232864, 232865, 232866, 232867, 232868, 11865, 11866, 321481, 11867, 321482, 321483, 11832, 11833, 11834, 11835, 11836, 11837, 11838, 11839, 11840, 11841, 11842, 11843, 11844, 11868, 11848, 11849, 11850, 11851, 11852, 11853, 11854, 11855, 11856, 11857, 11858, 11859, 11860, 274005, 274006, 274007, 274008, 274009, 274010, 274011, 274012, 274013, 274014, 274015, 274016, 274017, 274018, 274019, 274020, 274021, 274022, 274023, 274024, 274025, 274026, 274027, 274028, 274029, 274030, 274031, 274032, 274033, 274034, 274035, 274036, 274037, 274038, 274039, 274040, 274041, 274042, 274043, 274044, 274045, 274046, 274047, 274048, 274049, 274050, 274051, 274052, 274053, 274054, 274055, 274056, 274057, 274058, 274059, 274060, 274061, 274062, 274063, 274064, 274065, 274066, 274067, 274068, 274069, 274070, 274071, 274072, 274073, 274074, 274075, 274076, 274077, 274078, 274079, 274080, 274081, 274082, 274083, 274084, 274085, 274086, 274087, 274088, 274089, 274090, 274091, 274092, 274093, 274094, 274095, 274096, 274097, 274098, 274099, 274100, 274101, 266092, 266093, 266094, 266095, 94090, 94091, 94092, 305273, 305274, 305275, 305276, 257973, 257974, 257975, 257976, 305277, 305278, 305279, 305280, 167903, 167904, 167905, 167906, 167907, 167908, 167909, 77806, 77807, 77808, 77809, 77810, 298995, 298996, 298997, 298998, 298999, 77815, 77811, 77812, 77813, 77814, 77816, 77817, 77818, 77824, 77825, 77826, 77827, 77828, 77829, 77830, 77831, 77832, 77833, 77834, 77835, 77836, 77837, 77838, 77839, 77840, 77841, 348205, 348206, 348207, 348208, 348209, 348210, 348211, 348212, 348213, 348214, 348215, 348216, 348217, 348218, 348219, 348220, 348221, 348222, 348223, 151616, 151617, 151618, 151619, 151620, 151621, 151622, 151623, 151624, 151625, 151626, 151627, 151628, 151629, 151630, 151631, 151632, 151633, 151634, 348234, 348235, 348236, 348237, 348238, 348239, 348240, 348241, 348242, 348243, 348244, 348245, 348246, 348247, 348248, 348249, 348250, 348251, 348252, 348253, 348254, 348255, 348256, 77954, 77955, 77956, 77957, 77958, 77959, 77960, 77961, 77962, 77963, 77964, 77965, 77966, 77967, 77968, 77969, 77970, 77971, 77972, 77973, 77974, 77975, 77976, 77977, 77978, 4251, 4252, 4253, 4254, 4255, 4256, 4257, 4258, 176291, 176292, 176293, 4259, 4260, 4261, 4262, 4263, 4264, 4265, 4266, 4267, 4268, 4269, 4270, 4271, 4272, 4273, 4274, 4275, 4276, 4277, 4278, 4279, 4280, 4281, 4282, 4283, 4284, 78012, 78013, 78014, 78015, 78016, 78017, 78018, 78019, 78020, 78026, 78027, 78028, 78029, 78030, 78031, 78032, 78033, 78034, 78035, 78036, 78037, 78038, 78039, 78040, 78041, 78042, 78043, 78044, 78045, 78046, 78047, 78048, 78049, 78050, 78051, 78052, 78053, 78054, 78055, 78056, 78057, 78058, 78059, 78060, 78061, 78062, 78063, 78064, 78065, 78066, 348414, 348415, 348416, 348417, 348418, 341190, 341191, 341192, 341193, 341194, 341195, 341196, 341197, 37351, 37352, 37353, 37354, 37355, 37356, 37357, 37358, 37359, 37360, 37361, 102895, 102896, 127467, 127468, 127469, 127470, 127471, 127472, 127473, 127474, 127475, 127476, 127477, 127478, 127479, 127480, 127481, 127482, 127483, 127484, 127485, 127486, 127487, 127488, 348816, 348817, 348818, 348819, 348820, 348821, 406309, 406310, 406311, 193416, 100496, 119780, 119781, 119782, 119783, 119784, 119785, 119786, 119787, 119788, 119789, 119790, 119791, 119792, 119793, 119794, 365588, 365589, 365590, 365591, 365592, 365593, 365594, 365595, 365596, 365597, 365598, 365599, 365600, 365601, 365602, 365603, 365604, 365605, 349333, 349334, 349335, 349336, 349337, 349338, 349339, 259267, 259268, 259269, 259270, 259271, 259272, 259273, 259274, 259275, 259276, 259277, 259278, 259279, 259280, 259281, 259282, 259283, 259284, 259285, 259286, 341198, 341199, 341200, 341201, 341202, 341203, 341204, 341205, 341206, 341207, 341208, 341209, 341210, 341211, 341212, 341213, 341214, 341215, 341216, 341217, 341218, 341219, 341220, 341221, 341222, 341223, 341224, 341225, 341226, 341227, 341228, 341229, 341230, 341231, 341232, 341233, 341234, 341235, 341236, 341237, 341238, 341239, 136598, 136599, 136600, 136601, 136602, 136603, 136604, 136605, 136606, 136607, 136608, 136609, 136610, 136611, 136612, 136613, 136614, 136615, 136616, 136617, 136618, 136619, 136620, 136621, 136622, 136623, 136624, 136625, 398767, 398768, 382600, 382601, 382602, 382603, 382604, 382605, 382606, 382607, 382608, 382609, 382610, 382611, 382612, 382613, 382614, 382615, 382616, 382617, 382618, 382619, 382620, 382621, 382622, 382623, 382624, 382625, 382626, 87828, 382701, 382702, 382703, 382704, 382705, 382706, 382707, 382708, 382709, 382710, 382711, 382712, 382713, 382714, 382715, 382716, 382717, 382718, 382719, 87829, 382720, 382721, 382722, 382723, 382724, 382725, 382726, 382727, 382728, 382729, 87819, 87820, 87821, 292622, 292623, 292624, 292625, 292626, 292627, 292628, 87822, 87823, 87824, 87825, 87826, 87827, 292635, 292636, 292637, 292638, 87830, 87831, 100497, 292633, 292634, 292639, 292640, 292641, 292630, 292642, 292629, 292631, 292632, 366428, 366429, 366430, 366431, 366432, 366433, 366434, 366435, 366436, 382818, 227174, 227175, 227176, 227177, 227178, 227179, 382819, 382820, 382821, 382822, 382823, 382824, 382825, 235379, 235380, 235381, 235382, 235383, 235384, 235385, 235386, 235387, 235388, 235389, 235390, 235391, 235392, 235393, 235394, 235395, 235396, 235397, 235398, 235399, 235400, 235401, 235402, 235403, 235404, 235405, 235406, 235407, 235408, 235409, 235410, 235411, 235412, 235413, 235414, 235415, 235416, 235417, 235418, 235419, 235420, 235421, 235422, 235423, 235424, 235425, 235426, 235427, 235428, 235429, 235430, 235431, 235432, 382936, 382937, 382938, 382939, 382940, 382941, 382942, 382943, 382944, 382945, 382946, 382947, 382948, 382949, 382950, 382951, 382952, 382953, 382954, 382955, 382956, 382957, 382958, 382959, 382960, 382961, 382962, 382963, 382964, 382965, 382966, 382967, 382968, 382969, 382970, 382971, 382972, 382973, 382974, 382975, 382976, 382977, 382978, 382979, 382980, 382981, 382982, 219208, 219209, 219210, 219211, 219212, 63569, 63570, 63571, 63572, 260230, 260231, 260232, 260233, 55434, 55435, 55436, 55437, 55438, 55439, 55440, 55441, 260247, 260248, 260249, 260250, 260251, 260252, 260253, 260254, 260255, 260256, 260257, 260258, 260259, 260260, 260261, 260262, 260263, 260264, 260265, 301344, 301345, 260386, 260387, 260388, 260389, 260390, 260391, 260392, 260393, 260394, 260395, 260396, 260397, 260398, 260399, 260400, 260401, 260402, 260403, 301371, 301372, 77819, 121194, 121195, 121196, 121197, 121198, 121199, 77820, 77821, 77822, 77823, 260503, 260504, 260505, 260506, 367060, 367069, 367070, 367071, 367072, 367073, 367074, 367075, 367076, 367077, 367078, 367079, 367080, 367081, 367082, 367083, 367084, 367085, 367086, 367087, 260632, 260633, 260634, 260635, 260636, 260637, 260638, 260639, 348146, 348147, 334489, 334490, 334491, 334492, 334493, 334494, 334495, 334496, 162540, 162541, 162542, 162543, 162544, 162545, 162546, 162547, 162548, 162549, 162550, 162551, 162552, 162553, 162554, 162555, 162556, 162557, 162558, 162559, 162560, 162561, 162562, 162563, 162564, 162565, 162566, 162567, 162568, 162569, 162570, 162571, 162572, 162573, 162574, 162575, 162576, 162577, 162578, 162579, 162580, 162581, 162582, 162583, 162584, 348224, 348225, 348226, 348227, 359380, 348228, 348229, 348230, 348231, 348232, 348233, 318493, 318494, 318495, 318496, 318497, 318498, 318499, 318500, 318501, 318502, 318503, 318504, 318505, 318506, 318507, 318508, 318509, 318510, 318511, 318512, 318513, 318514, 318515, 318516, 318517, 318518, 318519, 318520, 318521, 318522, 318523, 318524, 318525, 318526, 318527, 318528, 318529, 318530, 318531, 318532, 318533, 318534, 318535, 318536, 318537, 318538, 318539, 318540, 318541, 318542, 318543, 318544, 318545, 318546, 113747, 113748, 113749, 113750, 113751, 113752, 113753, 318547, 318548, 318549, 318550, 318551, 318552, 318553, 318554, 318555, 318556, 318557, 318558, 318559, 318560, 367738, 367739, 367740, 367741, 367742, 367743, 367744, 77979, 77980, 77981, 77982, 77983, 77984, 77985, 77986, 77987, 77988, 77989, 77990, 77991, 77992, 376034, 376035, 77997, 77998, 77999, 78000, 376056, 376057, 376058, 78001, 376059, 376060, 376061, 376062, 78002, 376063, 376064, 376065, 376066, 78003, 376067, 376068, 376069, 376070, 78004, 376071, 376072, 376073, 376074, 78005, 376075, 376076, 376077, 78006, 78007, 78008, 78009, 78010, 78011, 253246, 253247, 253248, 253249, 253250, 253251, 253252, 253253, 253254, 253255, 187849, 187850, 187851, 187852, 187853, 187854, 187855, 187856, 187857, 187858, 187859, 187860, 187861, 187862, 187863, 187864, 187865, 187866, 187867, 187868, 187869, 187870, 187871, 187872, 187873, 187874, 187875, 187876, 187877, 187878, 187879, 187880, 187881, 187882, 187883, 187884, 187885, 187886, 187887, 187888, 187889, 187890, 187891, 187892, 187893, 187894, 187895, 187896, 187897, 187898, 187899, 187900, 187901, 187902, 187903, 187904, 187905, 187906, 187907, 187908, 187909, 187910, 187911, 187912, 187913, 187914, 187915, 187916, 187917, 187918, 187919, 187920, 187921, 187922, 187923, 187924, 187925, 187926, 187927, 187928, 187929, 187930, 187931, 187932, 187933, 187934, 187935, 187936, 187937, 187938, 187939, 187940, 187941, 187942, 187943, 187944, 187945, 187946, 187947, 187948, 187949, 187950, 187951, 187952, 187953, 187954, 187955, 187956, 187957, 187958, 335406, 335407, 335408, 335409, 335410, 335411, 335412, 335413, 335414, 335415, 335416, 335417, 335418, 335419, 335420, 335421, 335422, 335423, 335424, 188121, 188224, 188225, 188226, 188227, 188228, 188229, 188230, 188231, 188232, 188233, 188234, 188235, 188236, 188237, 188238, 188239, 188240, 188241, 188242, 188243, 188244, 188245, 188246, 188247, 188248, 188249, 81781, 81782, 81783, 81784, 81785, 81786, 81787, 81788, 81789, 81790, 81791, 81792, 81793, 81794, 81795, 335396, 335397, 335398, 8113, 8114, 8115, 8116, 8117, 8118, 8119, 335399, 335400, 335401, 335402, 335403, 335404, 335405, 188393, 188394, 188395, 188396, 188397, 188398, 188399, 188400, 188401, 188402, 188403, 188404, 188405, 188406, 188407, 188408, 188409, 188410, 188411, 188412, 188413, 188414, 188415}\n",
      "No inner Filter: 235225\n",
      "CPU times: user 1min 46s, sys: 27.4 ms, total: 1min 46s\n",
      "Wall time: 1min 46s\n"
     ]
    }
   ],
   "source": [
    "%%time\n",
    "temp = 0\n",
    "poolMismatch, parkMismatch, gateMismatch, golfMismatch = [], [], [], []\n",
    "# amenities considered [ park, pool, gated, golfcourse]\n",
    "amenities = ['pool=true', 'parks=true', 'gated=true', 'golfcourse=true', 'greenarea=true']\n",
    "\n",
    "faulted_names = ['user', 'properties']\n",
    "\n",
    "anamoly_DF = pd.DataFrame(columns=faulted_names)\n",
    "\n",
    "count = 0\n",
    "\n",
    "print(len(props))\n",
    "\n",
    "for index, data in props.iteritems():\n",
    "    tempDF = {'user': excel_df.iloc[index]['user'], 'properties': data['filters_applied'], 'timestamp': excel_df.iloc[index]['timestamp']}\n",
    "    if(('FiltersApplied') in data['filters_applied'].keys()):\n",
    "        currDict = data['filters_applied']['FiltersApplied']\n",
    "    else:\n",
    "        count += 1\n",
    "        currDict = []\n",
    "    \n",
    "    if data['filters_applied'].get('Pool'):\n",
    "        if amenities[0] not in currDict:\n",
    "            anamoly_DF = anamoly_DF.append(tempDF, ignore_index=True)\n",
    "            poolMismatch.append(index)\n",
    "\n",
    "    elif data['filters_applied'].get('Parks'):\n",
    "        if amenities[1] not in currDict:\n",
    "            anamoly_DF = anamoly_DF.append(tempDF, ignore_index=True)\n",
    "            parkMismatch.append(index)\n",
    "\n",
    "    elif data['filters_applied'].get('gated') or data['filters_applied'].get('Gated'):\n",
    "        if amenities[2] not in currDict:\n",
    "            anamoly_DF = anamoly_DF.append(tempDF, ignore_index=True)\n",
    "            gateMismatch.append(index)\n",
    "\n",
    "    elif data['filters_applied'].get('golfcourse') or data['filters_applied'].get('GolfCourse'):\n",
    "        if amenities[3] not in currDict:\n",
    "            anamoly_DF = anamoly_DF.append(tempDF, ignore_index=True)\n",
    "            golfMismatch.append(index)\n",
    "\n",
    "result = set((poolMismatch + parkMismatch + gateMismatch + golfMismatch))\n",
    "\n",
    "print('Pool Mismatch: ', len(poolMismatch))\n",
    "print('Park Mismatch:', len(parkMismatch))\n",
    "print('Gated Mismatch: ', len(gateMismatch))\n",
    "print('GolfCourse Mismatch: ', len(golfMismatch))\n",
    "print('Total Mismatch:', len(result), '\\n')\n",
    "print(result)\n",
    "print('No inner Filter:', count)"
   ]
  },
  {
   "cell_type": "code",
   "execution_count": 470,
   "metadata": {},
   "outputs": [
    {
     "output_type": "stream",
     "name": "stdout",
     "text": [
      "index\n0    2021-03-27T01:28:16\n1    2021-03-27T01:28:11\n2    2021-03-27T01:28:10\n3    2021-03-27T01:28:08\n4    2021-03-27T01:27:57\nName: timestamp, dtype: object\n<class 'str'>\n"
     ]
    },
    {
     "output_type": "execute_result",
     "data": {
      "text/plain": [
       "index\n",
       "0        2021-03-27 01:28:16\n",
       "1        2021-03-27 01:28:11\n",
       "2        2021-03-27 01:28:10\n",
       "3        2021-03-27 01:28:08\n",
       "4        2021-03-27 01:27:57\n",
       "                 ...        \n",
       "455551   2021-03-17 20:42:27\n",
       "455552   2021-03-17 20:42:27\n",
       "455553   2021-03-17 20:42:27\n",
       "455554   2021-03-17 20:42:16\n",
       "455555   2021-03-17 20:42:15\n",
       "Name: timestamp, Length: 455556, dtype: datetime64[ns]"
      ]
     },
     "metadata": {},
     "execution_count": 470
    }
   ],
   "source": [
    "import datetime\n",
    "excel_df['timestamp'] = excel_df['timestamp'].apply(lambda x : x[:19])\n",
    "print(excel_df['timestamp'].head())\n",
    "print(type(excel_df.iloc[0]['timestamp']))\n",
    "temp = pd.to_datetime(excel_df['timestamp'], format='%Y-%m-%dT%H:%M:%S')\n",
    "temp"
   ]
  },
  {
   "cell_type": "code",
   "execution_count": 475,
   "metadata": {},
   "outputs": [
    {
     "output_type": "stream",
     "name": "stdout",
     "text": [
      "<class 'pandas._libs.tslibs.timestamps.Timestamp'>\n"
     ]
    }
   ],
   "source": [
    "anamoly_DF['timestamp'] = temp\n",
    "print(type(anamoly_DF['timestamp'][0]))"
   ]
  },
  {
   "cell_type": "code",
   "execution_count": 476,
   "metadata": {},
   "outputs": [],
   "source": [
    "def findDay(date):\n",
    "    return date.day_name()\n",
    "\n",
    "dayColumn = anamoly_DF['timestamp'].apply(findDay)"
   ]
  },
  {
   "cell_type": "code",
   "execution_count": 477,
   "metadata": {},
   "outputs": [],
   "source": [
    "anamoly_DF['Day'] = dayColumn"
   ]
  },
  {
   "cell_type": "code",
   "execution_count": 478,
   "metadata": {},
   "outputs": [
    {
     "output_type": "execute_result",
     "data": {
      "text/plain": [
       "array(['Saturday', 'Thursday', 'Tuesday', 'Sunday', 'Monday', 'Wednesday',\n",
       "       'Friday'], dtype=object)"
      ]
     },
     "metadata": {},
     "execution_count": 478
    }
   ],
   "source": [
    "anamoly_DF['Day'].unique()"
   ]
  },
  {
   "cell_type": "code",
   "execution_count": 479,
   "metadata": {},
   "outputs": [
    {
     "output_type": "stream",
     "name": "stdout",
     "text": [
      "2021-03-10 17:45:47 2021-03-30 00:03:24\nSeries([], Name: properties, dtype: object)\n"
     ]
    }
   ],
   "source": [
    "pd.set_option('display.max_rows', 500)\n",
    "pd.set_option('display.max_columns', 500)\n",
    "pd.set_option('display.width', 1000)\n",
    "minDate = anamoly_DF['timestamp'].min()\n",
    "maxDate = anamoly_DF['timestamp'].max()\n",
    "print(minDate, maxDate)\n",
    "print(excel_df[excel_df['timestamp'] == minDate]['properties'])"
   ]
  },
  {
   "cell_type": "code",
   "execution_count": 501,
   "metadata": {},
   "outputs": [
    {
     "output_type": "execute_result",
     "data": {
      "text/plain": [
       "{'AggregateOptions': True,\n",
       " 'AlphaResults': True,\n",
       " 'Bathrooms': 2,\n",
       " 'Bedrooms': 3,\n",
       " 'Builders': [],\n",
       " 'Cities': [],\n",
       " 'City': 'Murrells Inlet',\n",
       " 'CommIdsSort': [],\n",
       " 'Comms': [],\n",
       " 'Counties': [],\n",
       " 'ExcludeBrandsFromResults': True,\n",
       " 'FiltersApplied': ['hometype=sf', 'pool=true', 'views=true'],\n",
       " 'FirstFilterApplied': 'hometype',\n",
       " 'GetLocationCoordinates': True,\n",
       " 'GetRadius': True,\n",
       " 'ImgCat': [],\n",
       " 'ImgColorType': [],\n",
       " 'ImgIds': [],\n",
       " 'ImgType': [],\n",
       " 'IncludeMpc': True,\n",
       " 'IsJavaScriptEnabled': True,\n",
       " 'IsMapVisible': True,\n",
       " 'LastFilterApplied': 'hometype',\n",
       " 'Listings': [],\n",
       " 'LocationContext': 2,\n",
       " 'MarketId': 257,\n",
       " 'MarketName': 'Myrtle Beach',\n",
       " 'MarketStateAbbr': 'SC',\n",
       " 'Markets': [],\n",
       " 'NoBoyl': True,\n",
       " 'OriginLat': 33.5508,\n",
       " 'OriginLng': -79.041702,\n",
       " 'PageSize': 20,\n",
       " 'PartnerId': 1,\n",
       " 'PlanIdsSort': [],\n",
       " 'Plans': [],\n",
       " 'Pool': True,\n",
       " 'PostalCodes': [],\n",
       " 'PriceHigh': 375000,\n",
       " 'Radius': 25,\n",
       " 'SingleFamily': True,\n",
       " 'SortBy': 'Random',\n",
       " 'SortFirstBy': 'Murrells Inlet',\n",
       " 'SortSecondBy': 'Distance',\n",
       " 'SpecIdsSort': [],\n",
       " 'Specs': [],\n",
       " 'SrpType': 'CommunityResults',\n",
       " 'State': 'SC',\n",
       " 'StateName': 'South Carolina',\n",
       " 'Views': True,\n",
       " 'WebApiSearchType': 'Radius',\n",
       " 'Zoom': 5}"
      ]
     },
     "metadata": {},
     "execution_count": 501
    }
   ],
   "source": [
    "excel_df.iloc[correctIndex]['properties']['filters_applied']"
   ]
  },
  {
   "cell_type": "code",
   "execution_count": 511,
   "metadata": {},
   "outputs": [
    {
     "output_type": "execute_result",
     "data": {
      "text/plain": [
       "properties    {'brand_partner_name': 'NewHomeSource', 'build...\n",
       "timestamp                                   2021-03-12T20:25:19\n",
       "user                                                       jean\n",
       "Name: 318517, dtype: object"
      ]
     },
     "metadata": {},
     "execution_count": 511
    }
   ],
   "source": [
    "excel_df.iloc[318517]"
   ]
  },
  {
   "cell_type": "code",
   "execution_count": 554,
   "metadata": {},
   "outputs": [
    {
     "output_type": "execute_result",
     "data": {
      "text/plain": [
       "['North Carolina',\n",
       " 'South Carolina',\n",
       " 'California',\n",
       " 'Delaware',\n",
       " 'Arizona',\n",
       " 'Nevada',\n",
       " 'New York',\n",
       " 'Tennessee',\n",
       " 'District Of Columbia',\n",
       " 'Texas',\n",
       " 'Pennsylvania',\n",
       " 'Virginia',\n",
       " 'Oklahoma',\n",
       " 'Minnesota',\n",
       " 'Florida',\n",
       " 'Colorado',\n",
       " 'Oregon',\n",
       " 'New Jersey',\n",
       " 'Georgia']"
      ]
     },
     "metadata": {},
     "execution_count": 554
    }
   ],
   "source": [
    "stateList = set()\n",
    "\n",
    "for index in result:\n",
    "    try:\n",
    "        stateList.add(excel_df.iloc[index]['properties']['filters_applied']['StateName'])\n",
    "    except:\n",
    "        pass\n",
    "stateList = list(stateList)\n",
    "stateList"
   ]
  },
  {
   "cell_type": "code",
   "execution_count": 481,
   "metadata": {
    "tags": []
   },
   "outputs": [
    {
     "output_type": "stream",
     "name": "stdout",
     "text": [
      "[] [] [] []\n"
     ]
    }
   ],
   "source": [
    "amenities = ['pool=true', 'parks=true', 'gated=true', 'golfcourse=true', 'greenarea=true']\n",
    "poolMismatch, parkMismatch, gateMismatch, golfMismatch = [], [], [], []\n",
    "temp, count = 0, 0\n",
    "# full = 0\n",
    "\n",
    "for index, data in props.iteritems():\n",
    "    # full += 1\n",
    "    if(('FiltersApplied') in data['filters_applied'].keys()):\n",
    "        # temp += 1\n",
    "        currDict = data['filters_applied']['FiltersApplied']\n",
    "        if amenities[0] in currDict:\n",
    "            if 'Pool' not in data['filters_applied'].keys():\n",
    "                poolMismatch.append(index)\n",
    "\n",
    "        if amenities[1] in currDict:\n",
    "            if 'Parks' not in data['filters_applied'].keys():\n",
    "                parkMismatch.append(index)\n",
    "\n",
    "        if amenities[2] in currDict:\n",
    "            if 'Gated' not in data['filters_applied'].keys():\n",
    "                gateMismatch.append(index)\n",
    "\n",
    "        if amenities[3] in currDict:\n",
    "            if 'GolfCourse' not in data['filters_applied'].keys():\n",
    "                golfMismatch.append(index)\n",
    "        \n",
    "print(poolMismatch, parkMismatch, gateMismatch, golfMismatch)"
   ]
  },
  {
   "cell_type": "code",
   "execution_count": 531,
   "metadata": {},
   "outputs": [],
   "source": [
    "stateColumn = []\n",
    "cityColumn = []\n",
    "for data in anamoly_DF['properties']:\n",
    "    stateColumn.append(data['StateName'])\n",
    "    try:\n",
    "        cityColumn.append(data['City'])\n",
    "    except:\n",
    "        cityColumn.append('-')"
   ]
  },
  {
   "cell_type": "code",
   "execution_count": 535,
   "metadata": {},
   "outputs": [],
   "source": [
    "anamoly_DF['State'] = stateColumn"
   ]
  },
  {
   "cell_type": "code",
   "execution_count": 536,
   "metadata": {},
   "outputs": [],
   "source": [
    "anamoly_DF['City'] = cityColumn"
   ]
  },
  {
   "cell_type": "code",
   "execution_count": 569,
   "metadata": {},
   "outputs": [],
   "source": [
    "totalAnamolies = len(anamoly_DF)\n",
    "cityList = list(set(cityColumn))"
   ]
  },
  {
   "cell_type": "code",
   "execution_count": 585,
   "metadata": {},
   "outputs": [],
   "source": [
    "stateWiseAnamolies = {}\n",
    "for state in stateList:\n",
    "    filt = (anamoly_DF['State'] == state)\n",
    "    stateWiseAnamolies[state] = len(anamoly_DF.loc[filt])"
   ]
  },
  {
   "cell_type": "code",
   "execution_count": 587,
   "metadata": {},
   "outputs": [
    {
     "output_type": "execute_result",
     "data": {
      "text/plain": [
       "[('Florida', 1268),\n",
       " ('Nevada', 205),\n",
       " ('Arizona', 138),\n",
       " ('California', 96),\n",
       " ('North Carolina', 60),\n",
       " ('Virginia', 50),\n",
       " ('Georgia', 48),\n",
       " ('Colorado', 47),\n",
       " ('Delaware', 39),\n",
       " ('Texas', 37),\n",
       " ('Minnesota', 15),\n",
       " ('Oklahoma', 11),\n",
       " ('Tennessee', 10),\n",
       " ('New Jersey', 9),\n",
       " ('District Of Columbia', 7),\n",
       " ('New York', 6),\n",
       " ('South Carolina', 4),\n",
       " ('Pennsylvania', 2),\n",
       " ('Oregon', 2)]"
      ]
     },
     "metadata": {},
     "execution_count": 587
    }
   ],
   "source": [
    "stateWiseAnamolies = sorted(stateWiseAnamolies.items(), key=lambda item: item[1], reverse=True)\n",
    "stateWiseAnamolies"
   ]
  },
  {
   "cell_type": "code",
   "execution_count": 592,
   "metadata": {},
   "outputs": [],
   "source": [
    "cityWiseAnamolies = {}\n",
    "for city in cityColumn:\n",
    "    filt = (anamoly_DF['City'] == city)\n",
    "    cityWiseAnamolies[city] = len(anamoly_DF.loc[filt])"
   ]
  },
  {
   "cell_type": "code",
   "execution_count": 593,
   "metadata": {},
   "outputs": [
    {
     "output_type": "execute_result",
     "data": {
      "text/plain": [
       "[('-', 921),\n",
       " ('Saint Augustine', 75),\n",
       " ('Port Saint Lucie', 73),\n",
       " ('Englewood', 63),\n",
       " ('Estero', 62),\n",
       " ('Ponte Vedra', 56),\n",
       " ('Tampa', 53),\n",
       " ('Palm Bay', 51),\n",
       " ('Bonita Springs', 46),\n",
       " ('Richmond', 45),\n",
       " ('Milton', 39),\n",
       " ('Moreno Valley', 34),\n",
       " ('Fort Collins', 31),\n",
       " ('Sarasota', 29),\n",
       " ('Peoria', 27),\n",
       " ('Gilbert', 27),\n",
       " ('Chandler', 25),\n",
       " ('Saint Johns', 23),\n",
       " ('Fort Lauderdale', 23),\n",
       " ('Queen Creek', 23),\n",
       " ('Raleigh', 19),\n",
       " ('Scottsdale', 19),\n",
       " ('Lincoln', 19),\n",
       " ('Westlake', 18),\n",
       " ('Davenport', 16),\n",
       " ('Viera', 15),\n",
       " ('Wesley Chapel', 15),\n",
       " ('Lutz', 14),\n",
       " ('Pompano Beach', 13),\n",
       " ('Spring', 13),\n",
       " ('Vero Beach', 12),\n",
       " ('Sugar Hill', 11),\n",
       " ('Venice', 10),\n",
       " ('Carson City', 10),\n",
       " ('North Port', 9),\n",
       " ('Melbourne Beach', 9),\n",
       " ('Loveland', 8),\n",
       " ('Jacksonville', 7),\n",
       " ('Stafford', 7),\n",
       " ('Dunedin', 7),\n",
       " ('Boynton Beach', 7),\n",
       " ('Kissimmee', 7),\n",
       " ('Lithia', 6),\n",
       " ('Ocean Isle Beach', 5),\n",
       " ('Fair Oaks', 5),\n",
       " ('Lakewood Ranch', 5),\n",
       " ('West Palm Beach', 5),\n",
       " ('Greenville', 4),\n",
       " ('Leland', 4),\n",
       " ('Brooksville', 4),\n",
       " ('Cypress', 3),\n",
       " ('Stuart', 3),\n",
       " ('Folsom', 3),\n",
       " ('Bradenton', 2),\n",
       " ('Mesquite', 2),\n",
       " ('Easton', 2),\n",
       " ('Surprise', 2),\n",
       " ('Saint Petersburg', 2),\n",
       " ('Maricopa', 2),\n",
       " ('Boca Raton', 1),\n",
       " ('Melbourne', 1),\n",
       " ('Winter Park', 1),\n",
       " ('Frisco', 1)]"
      ]
     },
     "metadata": {},
     "execution_count": 593
    }
   ],
   "source": [
    "cityWiseAnamolies = sorted(cityWiseAnamolies.items(), key = lambda item: item[1], reverse=True)\n",
    "cityWiseAnamolies"
   ]
  },
  {
   "cell_type": "code",
   "execution_count": 595,
   "metadata": {},
   "outputs": [
    {
     "output_type": "execute_result",
     "data": {
      "text/plain": [
       "tuple"
      ]
     },
     "metadata": {},
     "execution_count": 595
    }
   ],
   "source": [
    "type(cityWiseAnamolies[1])"
   ]
  },
  {
   "cell_type": "code",
   "execution_count": null,
   "metadata": {},
   "outputs": [],
   "source": []
  }
 ],
 "metadata": {
  "kernelspec": {
   "display_name": "Python 3",
   "language": "python",
   "name": "python3"
  },
  "language_info": {
   "codemirror_mode": {
    "name": "ipython",
    "version": 3
   },
   "file_extension": ".py",
   "mimetype": "text/x-python",
   "name": "python",
   "nbconvert_exporter": "python",
   "pygments_lexer": "ipython3",
   "version": "3.8.5"
  }
 },
 "nbformat": 4,
 "nbformat_minor": 4
}