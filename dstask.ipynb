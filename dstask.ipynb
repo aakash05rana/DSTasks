{
 "cells": [
  {
   "cell_type": "code",
   "execution_count": 213,
   "metadata": {},
   "outputs": [
    {
     "output_type": "execute_result",
     "data": {
      "text/plain": [
       "                                          properties    user\n",
       "0  {'brand_partner_name': 'NewHomeSource', 'build...  katiej\n",
       "1  {'brand_partner_name': 'NewHomeSource', 'city'...  katiej\n",
       "2  {'brand_partner_name': 'NewHomeSource', 'build...  katiej\n",
       "3  {'path': '/communities/sc/greenville-spartanbu...  katiej\n",
       "4  {'brand_partner_name': 'NewHomeSource', 'build...  katiej"
      ],
      "text/html": "<div>\n<style scoped>\n    .dataframe tbody tr th:only-of-type {\n        vertical-align: middle;\n    }\n\n    .dataframe tbody tr th {\n        vertical-align: top;\n    }\n\n    .dataframe thead th {\n        text-align: right;\n    }\n</style>\n<table border=\"1\" class=\"dataframe\">\n  <thead>\n    <tr style=\"text-align: right;\">\n      <th></th>\n      <th>properties</th>\n      <th>user</th>\n    </tr>\n  </thead>\n  <tbody>\n    <tr>\n      <th>0</th>\n      <td>{'brand_partner_name': 'NewHomeSource', 'build...</td>\n      <td>katiej</td>\n    </tr>\n    <tr>\n      <th>1</th>\n      <td>{'brand_partner_name': 'NewHomeSource', 'city'...</td>\n      <td>katiej</td>\n    </tr>\n    <tr>\n      <th>2</th>\n      <td>{'brand_partner_name': 'NewHomeSource', 'build...</td>\n      <td>katiej</td>\n    </tr>\n    <tr>\n      <th>3</th>\n      <td>{'path': '/communities/sc/greenville-spartanbu...</td>\n      <td>katiej</td>\n    </tr>\n    <tr>\n      <th>4</th>\n      <td>{'brand_partner_name': 'NewHomeSource', 'build...</td>\n      <td>katiej</td>\n    </tr>\n  </tbody>\n</table>\n</div>"
     },
     "metadata": {},
     "execution_count": 213
    }
   ],
   "source": [
    "import pandas as pd\n",
    "fields = ['user', 'properties']\n",
    "excel_df = pd.read_excel('Pandas_exercise.xlsx', usecols=fields)\n",
    "excel_df.head()"
   ]
  },
  {
   "cell_type": "code",
   "execution_count": 214,
   "metadata": {},
   "outputs": [
    {
     "output_type": "execute_result",
     "data": {
      "text/plain": [
       "                                             properties    user\n",
       "1356  {'brand_partner_name': 'NewHomeSource', 'build...  dmarie\n",
       "1357  {'Listings': [{'builder_id': '59497', 'builder...  dmarie\n",
       "1358  {'brand_partner_name': 'NewHomeSource', 'code_...  dmarie\n",
       "1359  {'brand_partner_name': 'NewHomeSource', 'build...  dmarie\n",
       "1361  {'brand_partner_name': 'NewHomeSource', 'build...  dmarie\n",
       "1362  {'Listings': [{'builder_id': '59497', 'builder...  dmarie\n",
       "1363  {'brand_partner_name': 'NewHomeSource', 'code_...  dmarie\n",
       "1364  {'Listings': [{'builder_id': '1082', 'builder_...  dmarie\n",
       "1377  {'area_clicked': 'Image Url', 'brand_partner_n...  dmarie\n",
       "1378  {'brand_partner_name': 'NewHomeSource', 'build...  dmarie"
      ],
      "text/html": "<div>\n<style scoped>\n    .dataframe tbody tr th:only-of-type {\n        vertical-align: middle;\n    }\n\n    .dataframe tbody tr th {\n        vertical-align: top;\n    }\n\n    .dataframe thead th {\n        text-align: right;\n    }\n</style>\n<table border=\"1\" class=\"dataframe\">\n  <thead>\n    <tr style=\"text-align: right;\">\n      <th></th>\n      <th>properties</th>\n      <th>user</th>\n    </tr>\n  </thead>\n  <tbody>\n    <tr>\n      <th>1356</th>\n      <td>{'brand_partner_name': 'NewHomeSource', 'build...</td>\n      <td>dmarie</td>\n    </tr>\n    <tr>\n      <th>1357</th>\n      <td>{'Listings': [{'builder_id': '59497', 'builder...</td>\n      <td>dmarie</td>\n    </tr>\n    <tr>\n      <th>1358</th>\n      <td>{'brand_partner_name': 'NewHomeSource', 'code_...</td>\n      <td>dmarie</td>\n    </tr>\n    <tr>\n      <th>1359</th>\n      <td>{'brand_partner_name': 'NewHomeSource', 'build...</td>\n      <td>dmarie</td>\n    </tr>\n    <tr>\n      <th>1361</th>\n      <td>{'brand_partner_name': 'NewHomeSource', 'build...</td>\n      <td>dmarie</td>\n    </tr>\n    <tr>\n      <th>1362</th>\n      <td>{'Listings': [{'builder_id': '59497', 'builder...</td>\n      <td>dmarie</td>\n    </tr>\n    <tr>\n      <th>1363</th>\n      <td>{'brand_partner_name': 'NewHomeSource', 'code_...</td>\n      <td>dmarie</td>\n    </tr>\n    <tr>\n      <th>1364</th>\n      <td>{'Listings': [{'builder_id': '1082', 'builder_...</td>\n      <td>dmarie</td>\n    </tr>\n    <tr>\n      <th>1377</th>\n      <td>{'area_clicked': 'Image Url', 'brand_partner_n...</td>\n      <td>dmarie</td>\n    </tr>\n    <tr>\n      <th>1378</th>\n      <td>{'brand_partner_name': 'NewHomeSource', 'build...</td>\n      <td>dmarie</td>\n    </tr>\n  </tbody>\n</table>\n</div>"
     },
     "metadata": {},
     "execution_count": 214
    }
   ],
   "source": [
    "filt = excel_df['properties'].str.contains('filters_applied')\n",
    "excel_df = excel_df.loc[filt]\n",
    "excel_df.head(10)"
   ]
  },
  {
   "cell_type": "code",
   "execution_count": 215,
   "metadata": {},
   "outputs": [],
   "source": [
    "excel_df['properties'] = excel_df['properties'].apply(eval)"
   ]
  },
  {
   "cell_type": "code",
   "execution_count": 346,
   "metadata": {},
   "outputs": [],
   "source": [
    "props = excel_df['properties']"
   ]
  },
  {
   "cell_type": "code",
   "execution_count": 342,
   "metadata": {},
   "outputs": [
    {
     "output_type": "execute_result",
     "data": {
      "text/plain": [
       "                                              properties    user\n",
       "index                                                           \n",
       "0      {'brand_partner_name': 'NewHomeSource', 'build...  dmarie\n",
       "1      {'Listings': [{'builder_id': '59497', 'builder...  dmarie\n",
       "2      {'brand_partner_name': 'NewHomeSource', 'code_...  dmarie\n",
       "3      {'brand_partner_name': 'NewHomeSource', 'build...  dmarie\n",
       "4      {'brand_partner_name': 'NewHomeSource', 'build...  dmarie"
      ],
      "text/html": "<div>\n<style scoped>\n    .dataframe tbody tr th:only-of-type {\n        vertical-align: middle;\n    }\n\n    .dataframe tbody tr th {\n        vertical-align: top;\n    }\n\n    .dataframe thead th {\n        text-align: right;\n    }\n</style>\n<table border=\"1\" class=\"dataframe\">\n  <thead>\n    <tr style=\"text-align: right;\">\n      <th></th>\n      <th>properties</th>\n      <th>user</th>\n    </tr>\n    <tr>\n      <th>index</th>\n      <th></th>\n      <th></th>\n    </tr>\n  </thead>\n  <tbody>\n    <tr>\n      <th>0</th>\n      <td>{'brand_partner_name': 'NewHomeSource', 'build...</td>\n      <td>dmarie</td>\n    </tr>\n    <tr>\n      <th>1</th>\n      <td>{'Listings': [{'builder_id': '59497', 'builder...</td>\n      <td>dmarie</td>\n    </tr>\n    <tr>\n      <th>2</th>\n      <td>{'brand_partner_name': 'NewHomeSource', 'code_...</td>\n      <td>dmarie</td>\n    </tr>\n    <tr>\n      <th>3</th>\n      <td>{'brand_partner_name': 'NewHomeSource', 'build...</td>\n      <td>dmarie</td>\n    </tr>\n    <tr>\n      <th>4</th>\n      <td>{'brand_partner_name': 'NewHomeSource', 'build...</td>\n      <td>dmarie</td>\n    </tr>\n  </tbody>\n</table>\n</div>"
     },
     "metadata": {},
     "execution_count": 342
    }
   ],
   "source": [
    "# creating index column\n",
    "\n",
    "temp = [i for i in range(len(excel_df))]\n",
    "excel_df['index'] = temp\n",
    "excel_df.set_index('index', inplace=True)\n",
    "excel_df.head()"
   ]
  },
  {
   "cell_type": "code",
   "execution_count": 358,
   "metadata": {
    "tags": []
   },
   "outputs": [
    {
     "output_type": "stream",
     "name": "stdout",
     "text": [
      "Pool:  {'evenpa': 58, 'laurie': 101, 'mrswai': 100, 'lairdc': 107, 'linjas': 4, 'brytas': 4, 'dennis': 41, 'leoann': 17, 'ann.p.': 14, 'hreid9': 40, 'eant77': 42, 'davidl': 7, 'rodrig': 122, 'sidso': 17, 'jjcaro': 4, 'verena': 3, 'hezzie': 1, 'lesley': 152, 'ravipr': 35, 'dougla': 63, 'kw5898': 22, 'jdenny': 9, 'eta300': 8, 'easton': 168, 'kathyr': 55, 'behapp': 4}\n"
     ]
    }
   ],
   "source": [
    "pool = {}\n",
    "isgated = {}\n",
    "golfcourse = {}\n",
    "park = {}\n",
    "\n",
    "# amenities considered [ park, pool, gated, golfcourse]\n",
    "\n",
    "for index, data in props.iteritems():\n",
    "    currDict = data['filters_applied']\n",
    "    try:\n",
    "        if(currDict.get('Pool') or currDict.get('pool')):\n",
    "            if excel_df.iloc[index]['user'] in pool:\n",
    "                pool[excel_df.iloc[index]['user']]+= 1\n",
    "            else:\n",
    "                pool[excel_df.iloc[index]['user']] = 1\n",
    "        if(currDict.get('gated') or currDict.get('Gated')):\n",
    "            if excel_df.iloc[index]['user'] in isgated:\n",
    "                isgated[excel_df.iloc[index]['user']]+= 1\n",
    "            else:\n",
    "                isgated[excel_df.iloc[index]['user']] = 1\n",
    "        if(currDict.get('parks') or currDict.get('Parks')):\n",
    "            if excel_df.iloc[index]['user'] in park:\n",
    "                park[excel_df.iloc[index]['user']]+= 1\n",
    "            else:\n",
    "                park[excel_df.iloc[index]['user']] = 1\n",
    "        if(currDict.get('GolfCourse') or currDict.get('GolfCourse')):\n",
    "            if excel_df.iloc[index]['user'] in park:                \n",
    "                golfcourse[excel_df.iloc[index]['user']]+= 1\n",
    "            else:\n",
    "                golfcourse[excel_df.iloc[index]['user']] = 1\n",
    "    except:\n",
    "        print('Some error occured!')\n",
    "        pass\n",
    "\n",
    "print('Pool: ', pool)"
   ]
  },
  {
   "cell_type": "code",
   "execution_count": 359,
   "metadata": {},
   "outputs": [
    {
     "output_type": "stream",
     "name": "stdout",
     "text": [
      "IsGated:  {'shakir': 14, 'scotte': 64, 'bnorth': 3, 'gcfran': 15, 'dena.d': 18, 'lreyes': 33, 'preeth': 9, 'gracef': 1, 'triamo': 45, 'rjburt': 9, 'hreid9': 40, 'alimzw': 20, 'kdland': 54, 'margot': 107, 'sueitr': 20, 'ashwin': 21, 'getnes': 2, 'lamela': 82, 'dougla': 18, 'lilygo': 62, 'jpdegr': 53, 'h.dwig': 12, 'simmon': 15, 'bischo': 60, 'steven': 25, 'kaeven': 311, 'kathyr': 5}\n"
     ]
    }
   ],
   "source": [
    "print('IsGated: ', isgated)"
   ]
  },
  {
   "cell_type": "code",
   "execution_count": 360,
   "metadata": {},
   "outputs": [
    {
     "output_type": "stream",
     "name": "stdout",
     "text": [
      "GolfCourse:  {'luanab': 1, 'tb8675': 1, 'mrsann': 1, 'cherie': 1, 'dougla': 1, 'las127': 1, 'kathyr': 1}\n"
     ]
    }
   ],
   "source": [
    "print('GolfCourse: ', golfcourse)"
   ]
  },
  {
   "cell_type": "code",
   "execution_count": 361,
   "metadata": {},
   "outputs": [
    {
     "output_type": "stream",
     "name": "stdout",
     "text": [
      "Park:  {'dmue19': 2}\n"
     ]
    }
   ],
   "source": [
    "print('Park: ', park)"
   ]
  },
  {
   "cell_type": "code",
   "execution_count": null,
   "metadata": {},
   "outputs": [],
   "source": []
  }
 ],
 "metadata": {
  "kernelspec": {
   "display_name": "Python 3",
   "language": "python",
   "name": "python3"
  },
  "language_info": {
   "codemirror_mode": {
    "name": "ipython",
    "version": 3
   },
   "file_extension": ".py",
   "mimetype": "text/x-python",
   "name": "python",
   "nbconvert_exporter": "python",
   "pygments_lexer": "ipython3",
   "version": "3.8.5"
  }
 },
 "nbformat": 4,
 "nbformat_minor": 4
}